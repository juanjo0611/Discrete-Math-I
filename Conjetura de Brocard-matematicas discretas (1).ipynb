{
  "metadata": {
    "kernelspec": {
      "name": "python",
      "display_name": "Python (Pyodide)",
      "language": "python"
    },
    "language_info": {
      "codemirror_mode": {
        "name": "python",
        "version": 3
      },
      "file_extension": ".py",
      "mimetype": "text/x-python",
      "name": "python",
      "nbconvert_exporter": "python",
      "pygments_lexer": "ipython3",
      "version": "3.8"
    }
  },
  "nbformat_minor": 4,
  "nbformat": 4,
  "cells": [
    {
      "cell_type": "markdown",
      "source": "Ejemplos de la Conjetura de Brocard\nEl objetivo de este programa realizado con Python 3.11.2 es generar ejemplos de la conjetura de Brocard que establece que para n un numero entero y Pn el n-esimo numero primo, hay al menos 4 numeros primos entre (Pn)^2 y (Pn+1)^2, para n>=2.\nEl programa resivira un numero n entero y calculara los primos que hay entre (Pn)^2 y (Pn+1)^2, verificando si para ese n la conjetura de Brocard es verdadera.\nA continuacion se presentara el programa:",
      "metadata": {}
    },
    {
      "cell_type": "code",
      "source": "from math import sqrt",
      "metadata": {
        "scrolled": true,
        "trusted": true
      },
      "outputs": [],
      "execution_count": 34
    },
    {
      "cell_type": "markdown",
      "source": "Primero se importa de la libreria math la funcion sqrt que sirve para calcular la raiz cuadrada de un numero, esta funcion se utiqlizara para analizar si un numero es primo combinandola con otras condiciones.",
      "metadata": {}
    },
    {
      "cell_type": "code",
      "source": "#verifica si el numero que se le pas es primo o no, si lo es lo agrega a la lista indicada\ndef verificar_primo(test_num:int,lista:list):\n  con=\"\"\n  for primo in primos:\n     if sqrt(test_num)<primo:\n         break\n     if test_num%primo == 0:\n         con=False\n         break\n     con=True\n  if con==True:\n      lista.append(test_num)\n  return test_num",
      "metadata": {
        "trusted": true
      },
      "outputs": [],
      "execution_count": 35
    },
    {
      "cell_type": "markdown",
      "source": "Para continuar con el proceso se creo la siquiente funcion, llamada \"verificar_primo\", la cual resive 2 parametros, el primero,llamado \"test_num\", es el numero a verificar si es primo o no, y el segundo, llamado \"lista\", es una lista donde se guardaran los primos, para verificar si un numero es primo o no, se divide por los primos menores (se prube individualmenrte la division con cada primo que cumpla esta condicion) a su raiz cuadrada y se verifica  que el residuo de esta division sea diferente de cero en todas las pruebas, los primos necesarios para hacer estas pruebas se almacenan en un lista llamada \"primos\", si despues del proceso se llega a la conclusion que el numero  indicado es primo se añade a la lista indicada, mas adelante se explicara como se utilizo esta funcion para hallar ejemplos de la conjetura de Brocard, por ultimo la funcion devolvera el numero que se verifico si era primo o no.",
      "metadata": {}
    },
    {
      "cell_type": "code",
      "source": "'''\nEste valor representa el n-esimo primo con el cual el programa trabaja,\nse puede cambiar\n'''\nn=100\n\nprimos=[2,3]\n\nif n==1:\n    increment=1\nelse:\n    increment=2",
      "metadata": {
        "trusted": true
      },
      "outputs": [],
      "execution_count": 36
    },
    {
      "cell_type": "markdown",
      "source": "Ahora se estableceran las variables que el programa utilizara para calcular los numeros primos necesarios, comenzando con la variable \"n\" que se utiliza para calcular Pn, el n-esimo primo que se utiliza en la conjetura de Brocard, despues la lista \"primos\" que tiene como valores iniciales los primeros dos primos 2 y 3, la cual se utilizara para calcualr los demas primos, y por ultimo la variable \"increment\" que se utilizara para cambiar los numeros de prueba (numeros que se quiere saber si son primos o no), esta variable cambia dependiendo del \"n\" inicial ya que si \"n\" mayor a 1, Pn es impar, porque el unico primo par es el primer primo, 2, por lo que para no hacer pruebas innecesarias solo se prueban impares y para ir alterando entre un impar y otro, se les suma 2, pero si \"n\" es 1, el primer primo es 2, y el programa debe tener en cuenta numeros pares por este valor de \"n\", por lo que para alternar entre par e impar se sumara 1.",
      "metadata": {}
    },
    {
      "cell_type": "code",
      "source": "test_num=primos[len(primos)-1]+increment",
      "metadata": {
        "trusted": true
      },
      "outputs": [],
      "execution_count": 37
    },
    {
      "cell_type": "markdown",
      "source": "A continuacion, se crea una variable que almacenara los posible primos (numeros que se verificaran como primos o no más adelante) llamada \"test_num\", su valor inicial es el ultimo primo en la lista (3) mas el incremento que depende del \"n\" inicial.",
      "metadata": {}
    },
    {
      "cell_type": "code",
      "source": "while n+1>len(primos):\n    test_num=verificar_primo(test_num,primos)\n    test_num+=increment",
      "metadata": {
        "trusted": true
      },
      "outputs": [],
      "execution_count": 38
    },
    {
      "cell_type": "markdown",
      "source": "Prosiguiendo, se utiliza un ciclo While para encontrar el (n+1)-esimo primo, verificando que la lista de primos tenga esta longitud, dentro del ciclo se utiliza la funcion anteriormente construida \"verificar_primo\" pasando le como parametros la variable \"test_num\" y la lista \"primos\", con el objetivo de encontrar todos los primos hasta el (n+1)-esimo primo y guardarlos en la lista \"primos\", desspues de verificar si un numero es primo o no, la funcion devolvera el numero analizado y se guardara en la variable \"test_num\" y despues se incrementar este numero sumandole la variable \"increment\"para continuar con el siquiente numero a probar hasta que se encuentre el (n+1)-esimo primo.\nLa lista de primos gracias a este paso del proceso se amplia continuamente permitiendo el analisis de numeros cada vez mas grandes en la funcion \"verificar_primo\".",
      "metadata": {}
    },
    {
      "cell_type": "code",
      "source": "resultado=[]\n\ntest_num=(primos[n-1]*primos[n-1])+increment",
      "metadata": {
        "trusted": true
      },
      "outputs": [],
      "execution_count": 39
    },
    {
      "cell_type": "markdown",
      "source": "Despues, se creara una lista que almacenara los primos entre (Pn)^2 y (Pn+1)^2 llamada \"resultado\", ademas se cambiara el valor de \"test_num\" a (Pn)^2 + \"increment\" para comenzar al inicio del intervalo donde se requiere hallar los primos.",
      "metadata": {}
    },
    {
      "cell_type": "code",
      "source": "while test_num<(primos[n]*primos[n]):\n    test_num=verificar_primo(test_num,resultado) \n    test_num+=increment",
      "metadata": {
        "trusted": true
      },
      "outputs": [],
      "execution_count": 40
    },
    {
      "cell_type": "markdown",
      "source": "A continuacion, se creara otro ciclo While para hallar los numeros primos hasta (Pn+1)^2, iniciando como ya se dijo desde (Pn)^2 + \"increment\", utilizando otra vez la funcion \"verificar_primo\", pasandole como primer parametro la variable \"test_num\" para que comienze a verificar la existencia de numeros primos desde ese numero, y como segundo parametro la lista \"resultado\" para almacenar los primos encontrados en esta lista, prosiguiendo la funcion devuelve el numero analisado y se guarda en la varible \"test_num\", por ultimo se le suma a \"test_num\" la varable \"increment\" para continuar con el siquiente numero a probar hasta que \"test_num\" sea igual o mayor a (Pn+1)^2.\nEsta parte del proceso funciona gracias a que ya se requistaron todos lo primos hasta Pn+1, y el numero mas grande a analizar seria (Pn+1)^2 - \"increment\" (ya que (Pn+1)^2 por obias razones no es primo), por lo que:\n(Pn+1)^2 - \"increment\"  <  (Pn+1)^2\n√((Pn+1)^2 - \"increment\" ) <  Pn+1\nY debido a que solo se necesitan provar los primos hasta la raiz cuadrada del numero entonces, en la lista \"primos\" se tienen todos los primos necesarios para realizar este analisis hasta (Pn+1)^2.\n",
      "metadata": {}
    },
    {
      "cell_type": "code",
      "source": "print(f'''\nn ingresado = {n}\\n\nnumero primo {n} = {primos[n-1]}\\n\nnumero primo {n+1} = {primos[n]}\\n\nhay {len(resultado)} numeros primos entre {(primos[n-1]*primos[n-1])} y {(primos[n]*primos[n])}\\n\npor lo que la conjetura de Brocard {\"se cumple\" if len(resultado)>=4 else \"no se cumple\"}\\n\nse mostraran a continuacion:\\n\n{resultado}\n''')",
      "metadata": {
        "trusted": true
      },
      "outputs": [
        {
          "name": "stdout",
          "text": "\nn ingresado = 100\n\nnumero primo 100 = 541\n\nnumero primo 101 = 547\n\nhay 498 numeros primos entre 292681 y 299209\n\npor lo que la conjetura de Brocard se cumple\n\nse mostraran a continuacion:\n\n[292693, 292703, 292709, 292711, 292717, 292727, 292753, 292759, 292777, 292793, 292801, 292807, 292819, 292837, 292841, 292849, 292867, 292879, 292909, 292921, 292933, 292969, 292973, 292979, 292993, 293021, 293071, 293081, 293087, 293093, 293099, 293107, 293123, 293129, 293147, 293149, 293173, 293177, 293179, 293201, 293207, 293213, 293221, 293257, 293261, 293263, 293269, 293311, 293329, 293339, 293351, 293357, 293399, 293413, 293431, 293441, 293453, 293459, 293467, 293473, 293483, 293507, 293543, 293599, 293603, 293617, 293621, 293633, 293639, 293651, 293659, 293677, 293681, 293701, 293717, 293723, 293729, 293749, 293767, 293773, 293791, 293803, 293827, 293831, 293861, 293863, 293893, 293899, 293941, 293957, 293983, 293989, 293999, 294001, 294013, 294023, 294029, 294043, 294053, 294059, 294067, 294103, 294127, 294131, 294149, 294157, 294167, 294169, 294179, 294181, 294199, 294211, 294223, 294227, 294241, 294247, 294251, 294269, 294277, 294289, 294293, 294311, 294313, 294317, 294319, 294337, 294341, 294347, 294353, 294383, 294391, 294397, 294403, 294431, 294439, 294461, 294467, 294479, 294499, 294509, 294523, 294529, 294551, 294563, 294629, 294641, 294647, 294649, 294659, 294673, 294703, 294731, 294751, 294757, 294761, 294773, 294781, 294787, 294793, 294799, 294803, 294809, 294821, 294829, 294859, 294869, 294887, 294893, 294911, 294919, 294923, 294947, 294949, 294953, 294979, 294989, 294991, 294997, 295007, 295033, 295037, 295039, 295049, 295073, 295079, 295081, 295111, 295123, 295129, 295153, 295187, 295199, 295201, 295219, 295237, 295247, 295259, 295271, 295277, 295283, 295291, 295313, 295319, 295333, 295357, 295363, 295387, 295411, 295417, 295429, 295433, 295439, 295441, 295459, 295513, 295517, 295541, 295553, 295567, 295571, 295591, 295601, 295663, 295693, 295699, 295703, 295727, 295751, 295759, 295769, 295777, 295787, 295819, 295831, 295837, 295843, 295847, 295853, 295861, 295871, 295873, 295877, 295879, 295901, 295903, 295909, 295937, 295943, 295949, 295951, 295961, 295973, 295993, 296011, 296017, 296027, 296041, 296047, 296071, 296083, 296099, 296117, 296129, 296137, 296159, 296183, 296201, 296213, 296221, 296237, 296243, 296249, 296251, 296269, 296273, 296279, 296287, 296299, 296347, 296353, 296363, 296369, 296377, 296437, 296441, 296473, 296477, 296479, 296489, 296503, 296507, 296509, 296519, 296551, 296557, 296561, 296563, 296579, 296581, 296587, 296591, 296627, 296651, 296663, 296669, 296683, 296687, 296693, 296713, 296719, 296729, 296731, 296741, 296749, 296753, 296767, 296771, 296773, 296797, 296801, 296819, 296827, 296831, 296833, 296843, 296909, 296911, 296921, 296929, 296941, 296969, 296971, 296981, 296983, 296987, 297019, 297023, 297049, 297061, 297067, 297079, 297083, 297097, 297113, 297133, 297151, 297161, 297169, 297191, 297233, 297247, 297251, 297257, 297263, 297289, 297317, 297359, 297371, 297377, 297391, 297397, 297403, 297421, 297439, 297457, 297467, 297469, 297481, 297487, 297503, 297509, 297523, 297533, 297581, 297589, 297601, 297607, 297613, 297617, 297623, 297629, 297641, 297659, 297683, 297691, 297707, 297719, 297727, 297757, 297779, 297793, 297797, 297809, 297811, 297833, 297841, 297853, 297881, 297889, 297893, 297907, 297911, 297931, 297953, 297967, 297971, 297989, 297991, 298013, 298021, 298031, 298043, 298049, 298063, 298087, 298093, 298099, 298153, 298157, 298159, 298169, 298171, 298187, 298201, 298211, 298213, 298223, 298237, 298247, 298261, 298283, 298303, 298307, 298327, 298339, 298343, 298349, 298369, 298373, 298399, 298409, 298411, 298427, 298451, 298477, 298483, 298513, 298559, 298579, 298583, 298589, 298601, 298607, 298621, 298631, 298651, 298667, 298679, 298681, 298687, 298691, 298693, 298709, 298723, 298733, 298757, 298759, 298777, 298799, 298801, 298817, 298819, 298841, 298847, 298853, 298861, 298897, 298937, 298943, 298993, 298999, 299011, 299017, 299027, 299029, 299053, 299059, 299063, 299087, 299099, 299107, 299113, 299137, 299147, 299171, 299179, 299191, 299197]\n\n",
          "output_type": "stream"
        }
      ],
      "execution_count": 41
    },
    {
      "cell_type": "markdown",
      "source": "La ultima parte del programa es presentar los resultados obtenidos, indicando que \"n\" se ingreso, los n y n+1-esimos primos, el intervalo donde se busacaron los primos \n((Pn)^2-(Pn+1)^2), la cantidad de primos que hay entre estos numeros, si se cumple o no la conjetura de Brocard y una lista de los primos que hay.",
      "metadata": {}
    }
  ]
}