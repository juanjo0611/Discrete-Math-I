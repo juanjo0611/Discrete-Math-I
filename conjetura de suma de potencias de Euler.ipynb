{
  "metadata": {
    "kernelspec": {
      "name": "python",
      "display_name": "Python (Pyodide)",
      "language": "python"
    },
    "language_info": {
      "name": ""
    }
  },
  "nbformat_minor": 4,
  "nbformat": 4,
  "cells": [
    {
      "cell_type": "markdown",
      "source": "Conjetura de suma de potencias de Euler\n\n\nEl objetivo de este programa es mostrar un contraejemplo de la conjetura de potencias de Euler, la cual indica que para un n y k enteros mayores a 1, si:\n\na1^k+a2^k+...+an^k=b^k, siendo a1,...,an numeros enteros, entonces n>=k.\n\nSe tomara el mas pequeño contraejemplo que se encontro para k=4, hallado por Royer Frye en 1988, donde:\n\na=95800\n\nb=217519\n\nc=414560\n\nd=422481\n\na^4+b^4+c^4=d^4\n\nEn este caso se utilizan tres sumandos que son cuartas potencias de numeros enteros para obtener una cuarta potencia de un numero entero, por lo que n=3 y k=4, lo que contradice lo que decia la conjetura de que n >=k.\n\nEl codigo se mostrara a continuacion:",
      "metadata": {}
    },
    {
      "cell_type": "code",
      "source": "def pow (num, expo):\n    result=1\n    for _ in range(0,expo):\n        result*=num\n    return result",
      "metadata": {
        "trusted": true
      },
      "outputs": [],
      "execution_count": null
    },
    {
      "cell_type": "markdown",
      "source": "Primero comenzamos con una funcion que permite realizar potencias con enteros, esta funcion se utilizara para comprobar que la conjetura de suma de potencias de Euler no se cumple, la funcion se llama \"pow\".",
      "metadata": {}
    },
    {
      "cell_type": "code",
      "source": "a=95800\nb=217519\nc=414560\nd=422481",
      "metadata": {
        "trusted": true
      },
      "outputs": [],
      "execution_count": null
    },
    {
      "cell_type": "markdown",
      "source": "Ahora se establecen las variables donde se almacenan los enteros que se van a utilizar en el contraejemplo.",
      "metadata": {}
    },
    {
      "cell_type": "code",
      "source": "result=pow(a,4)+pow(b,4)+pow(c,4)",
      "metadata": {
        "trusted": true
      },
      "outputs": [],
      "execution_count": null
    },
    {
      "cell_type": "markdown",
      "source": "Despues se realiza la operacion indicada para obtener el resultado que mas adelante se verificara si coincide con una cuarta potencia de un numero entero, la operacion es la siquiente: \n\nresult=a^4+b^4+c^4",
      "metadata": {}
    },
    {
      "cell_type": "code",
      "source": "if result == pow(d,4):\n    print(\"La conjetura de suma de potencias de Euler no se cumple\")",
      "metadata": {
        "trusted": true
      },
      "outputs": [],
      "execution_count": null
    },
    {
      "cell_type": "markdown",
      "source": "Despues se compara si el resultado obtenido corresponde a la cuarta potencia del numero entero d, si corresponde imprime que la conjetura de sumas de potencias de Euler no se cumple, por lo que se puede ver al ejecutar el programa, la conjetura de suma de potencia de Euler no se cumple.",
      "metadata": {}
    }
  ]
}